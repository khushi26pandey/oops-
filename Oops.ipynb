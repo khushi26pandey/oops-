{
  "nbformat": 4,
  "nbformat_minor": 0,
  "metadata": {
    "colab": {
      "provenance": []
    },
    "kernelspec": {
      "name": "python3",
      "display_name": "Python 3"
    },
    "language_info": {
      "name": "python"
    }
  },
  "cells": [
    {
      "cell_type": "code",
      "execution_count": null,
      "metadata": {
        "id": "CB0hGbzJJMSb"
      },
      "outputs": [],
      "source": []
    },
    {
      "cell_type": "markdown",
      "source": [
        "1 What is Object-Oriented Programming (OOP)?\n",
        "\n",
        "  ans-OOP is a programming based on object and include  encapsulation, inheritance, and polymorphism etc.\n",
        "\n",
        "\n",
        "2 What is a class in OOP?\n",
        "\n",
        "ans- A class is used for creating object . It define attribute and method that it's object will have.\n",
        "\n",
        "\n",
        "3 What is an object in OOP?\n",
        "\n",
        "ans- An object can also be called as instance of a class.\n",
        "\n",
        "\n",
        "4 Difference between abstraction and encapsulation?\n",
        "\n",
        "ans-Abstraction hides complex implementation.Encapsulation hides internal data using access modifiers.\n",
        "\n",
        "\n",
        "5 What are dunder methods in Python?\n",
        "\n",
        "ans -Dunder can also define as  double underscores ___init ___ , ___class___These are also called magic method or special method.\n",
        "\n",
        "\n",
        "6 Explain the concept of inheritance in OOP.\n",
        "\n",
        "ans-Inheritance allows a  child class  to inherit parent class . It can inherit it's properties and method.\n",
        "\n",
        "\n",
        "7 What is polymorphism in OOP?\n",
        "\n",
        "ans - Polymorphism means having many forms. A single function or method behaves differently depending on the object calling it.\n",
        "\n",
        "8 How is encapsulation achieved in Python?\n",
        "\n",
        "\n",
        "\n",
        "9 What is a constructor in Python?\n",
        "\n",
        "ans- A constructor is a special method __init__() that is automatically called when an object is called .\n",
        "\n",
        "\n",
        "10 What are class and static methods in Python?\n",
        "\n",
        "ans - Class methods is defined  as @classmethod and receive the class as first argument (cls).\n",
        "Static method can be defined as  @staticmethod and cannot be  take first argument self or cls.\n",
        "\n",
        "\n",
        "11 What is method overloading in Python?\n",
        "\n",
        "ans-Python does not support true  overloading, but you can use default arguments .\n",
        "\n",
        "\n",
        "12 What is method overriding in OOP?\n",
        "\n",
        "ans - When a child class provides a specific implementation of a method already defined in the parent class. And child class always implement as they are power ful than parent class .\n",
        "\n",
        "\n",
        "13 What is a property decorator in Python?\n",
        "\n",
        "ans- Where a method behave like an attribute using @property.\n",
        "\n",
        "\n",
        "14 Why is polymorphism important in OOP?\n",
        "\n",
        "ans- It allows code reusability  by using the same interface for different class.\n",
        "\n",
        "\n",
        "15 What is an abstract class in Python?\n",
        "\n",
        "ans- A class that cannot be instantiated directly. It contains abstract methods that must be implemented by subclasses  import abc abstractmethod\n",
        "\n",
        "\n",
        "16 What are the advantages of OOP?\n",
        "\n",
        "ans-Code reuse through inheritance,Systematic presentation,Encapsulation for data protection.\n",
        "\n",
        "\n",
        "17 Difference between a class variable and an instance variable?\n",
        "\n",
        "ans-Class variable is shared across all instances.Instance variable is unique to object.\n",
        "\n",
        "18 What is multiple inheritance in Python?\n",
        "\n",
        "ans-A child  class inheriting from more than one parent class is called multiple inheritance class.\n",
        "\n",
        "19 Purpose of __str__ and __repr__?\n",
        "\n",
        "ans-__str__: used fot string representation.\n",
        "\n",
        "\n",
        "20 What is the significance of the super() function in Python?\n",
        "\n",
        "ans- Used to call a method from the parent class in child class.\n",
        "\n",
        "\n",
        "21 Significance of the __del__ method?\n",
        "\n",
        "ans-This method is used to delete class or an object.\n",
        "\n",
        "\n",
        "22 Difference between @staticmethod and @classmethod?\n",
        "\n",
        "ans-@staticmethod cannot  access to class/ instance or modify it .@classmethod: Access to class  and modify it but not instance.\n",
        "\n",
        "23 How does polymorphism work with inheritance in Python?\n",
        "\n",
        "ans-Child class can override parent method same method call behaves differently depending on the class.\n",
        "\n",
        "\n",
        "24 What is method chaining in Python OOP?\n",
        "\n",
        "ans-Calling multiple methods on the same object in one line.\n",
        "\n",
        "25 What is the purpose of the __call__ method in Python?\n",
        "\n",
        "ans-Allows an object to be called like a function."
      ],
      "metadata": {
        "id": "OwnnMLy4JQwQ"
      }
    },
    {
      "cell_type": "code",
      "source": [
        "#Q1-Create a parent class Animal with a method speak() that prints a generic message. Create a child class Dog that overrides the speak() method to print \"Bark!\"."
      ],
      "metadata": {
        "id": "2KRVM5PiLo1P"
      },
      "execution_count": null,
      "outputs": []
    },
    {
      "cell_type": "code",
      "source": [
        "class animal:\n",
        "  def speak(self):\n",
        "    print(\"animal sound\")\n",
        "class dog(animal):\n",
        "  def speak(self):\n",
        "    print(\"bark\")\n",
        "\n",
        "    a=dog()\n",
        "    a.speak\n",
        "\n",
        "\n",
        "\n",
        "\n",
        "\n",
        "\n",
        "\n",
        "\n"
      ],
      "metadata": {
        "id": "ubVhmFL-LrNf"
      },
      "execution_count": 4,
      "outputs": []
    },
    {
      "cell_type": "code",
      "source": [
        "#Q2 Write a program to create an abstract class Shape with a method area(). Derive classes Circle and Rectanglefrom it and implement the area() method in both."
      ],
      "metadata": {
        "id": "5QBUEnX_MS9U"
      },
      "execution_count": null,
      "outputs": []
    },
    {
      "cell_type": "code",
      "source": [
        "from abc import ABC\n",
        "\n",
        "class shape(ABC)\n",
        "@abstractmethod\n",
        "def area (self):\n",
        "  pass\n",
        "\n",
        "class circle(shape):\n",
        "   def __init__(self,radius):\n",
        "    self.radius= radius\n",
        "\n",
        "  def area(self):\n",
        "    return 5.12\n",
        "\n",
        "\n",
        " class rectangle(shape):\n",
        "  def __init__(self,lenth,width):\n",
        "    self.lenth=lenth\n",
        "    self.width=width\n",
        "\n",
        "    def area(self):\n",
        "      return self.lenth*self.width\n",
        "\n",
        "\n"
      ],
      "metadata": {
        "id": "k8etwS5OMTQY"
      },
      "execution_count": null,
      "outputs": []
    },
    {
      "cell_type": "code",
      "source": [
        "#Q3- Implement a multi-level inheritance scenario where a class Vehicle has an attribute type. Derive a class Car and further derive a class ElectricCar that adds a battery attribute."
      ],
      "metadata": {
        "id": "EjUcbargOZBp"
      },
      "execution_count": null,
      "outputs": []
    },
    {
      "cell_type": "code",
      "source": [
        "class Vehicle:\n",
        "    def __init__(self, type):\n",
        "        self.type = type\n",
        "\n",
        "class Car(Vehicle):\n",
        "    def __init__(self, type, model):\n",
        "        super().__init__(type)\n",
        "        self.model = model\n",
        "\n",
        "class ElectricCar(Car):\n",
        "    def __init__(self, type, model, battery):\n",
        "        super().__init__(type, model)\n",
        "        self.battery = battery\n",
        ""
      ],
      "metadata": {
        "id": "--D7j4XoNfvj"
      },
      "execution_count": null,
      "outputs": []
    },
    {
      "cell_type": "code",
      "source": [
        "#Q4- Demonstrate polymorphism by creating a base class Bird with a method fly(). Create two derived classes Sparrow and Penguin that override the fly() method.\n"
      ],
      "metadata": {
        "id": "p6FGFgpOPx5k"
      },
      "execution_count": null,
      "outputs": []
    },
    {
      "cell_type": "code",
      "source": [
        "class Bird:\n",
        "    def fly(self):\n",
        "        print(\"Bird can fly\")\n",
        "\n",
        "class Sparrow(Bird):\n",
        "    def fly(self):\n",
        "        print(\"Sparrow flies high\")\n",
        "\n",
        "class Penguin(Bird):\n",
        "    def fly(self):\n",
        "        print(\"Penguin can't fly\")"
      ],
      "metadata": {
        "id": "aia36kVJPyGG"
      },
      "execution_count": null,
      "outputs": []
    },
    {
      "cell_type": "code",
      "source": [
        "#Q5- Write a program to demonstrate encapsulation by creating a class BankAccount with private attributes balance and methods to deposit, withdraw, and check balance."
      ],
      "metadata": {
        "id": "rmzZFQBbP2gK"
      },
      "execution_count": null,
      "outputs": []
    },
    {
      "cell_type": "code",
      "source": [
        "class BankAccount:\n",
        "    def __init__(self):\n",
        "        self.__balance = 0\n",
        "\n",
        "    def deposit(self, amount):\n",
        "        self.__balance += amount\n",
        "\n",
        "    def withdraw(self, amount):\n",
        "        if amount <= self.__balance:\n",
        "            self.__balance -= amount\n",
        "\n",
        "    def check_balance(self):\n",
        "        return self.__balance"
      ],
      "metadata": {
        "id": "IhaWCxLNP2uD"
      },
      "execution_count": null,
      "outputs": []
    },
    {
      "cell_type": "code",
      "source": [
        "#Q6-Demonstrate runtime polymorphism using a method play() in a base class Instrument. Derive classes Guitar and Piano that implement their own version of play()."
      ],
      "metadata": {
        "id": "JdlshIaBP8eh"
      },
      "execution_count": null,
      "outputs": []
    },
    {
      "cell_type": "code",
      "source": [
        "class Instrument:\n",
        "    def play(self):\n",
        "        print(\"Playing instrument\")\n",
        "\n",
        "class Guitar(Instrument):\n",
        "    def play(self):\n",
        "        print(\"Playing guitar\")\n",
        "\n",
        "class Piano(Instrument):\n",
        "    def play(self):\n",
        "        print(\"Playing piano\")"
      ],
      "metadata": {
        "id": "1iZA3IbZP8ut"
      },
      "execution_count": null,
      "outputs": []
    },
    {
      "cell_type": "code",
      "source": [
        "#Q7- Create a class MathOperations with a class method add_numbers() to add two numbers and a static method subtract_numbers() to subtract two numbers."
      ],
      "metadata": {
        "id": "Cp8JsHgoP-LA"
      },
      "execution_count": null,
      "outputs": []
    },
    {
      "cell_type": "code",
      "source": [
        "class MathOperations:\n",
        "    def add_numbers(self, a, b):\n",
        "        return a + b\n",
        "\n",
        "    def subtract_numbers(self, a, b):\n",
        "        return a - b"
      ],
      "metadata": {
        "id": "au2r-3AcP-Wl"
      },
      "execution_count": null,
      "outputs": []
    },
    {
      "cell_type": "code",
      "source": [
        "#Q8-Implement a class Person with a class method to count the total number of persons created."
      ],
      "metadata": {
        "id": "fNBYgdinQFNF"
      },
      "execution_count": null,
      "outputs": []
    },
    {
      "cell_type": "code",
      "source": [
        "class Person:\n",
        "    count = 0\n",
        "\n",
        "    def __init__(self):\n",
        "        Person.count += 1\n",
        "\n",
        "    @classmethod\n",
        "    def total_persons(cls):\n",
        "        return cls.count"
      ],
      "metadata": {
        "id": "K7dbv3jRQFYx"
      },
      "execution_count": null,
      "outputs": []
    },
    {
      "cell_type": "code",
      "source": [
        "#Q9-Write a class Fraction with attributes numerator and denominator. Override the str method to display the fraction as \"numerator/denominator\"."
      ],
      "metadata": {
        "id": "A8jvcBTaQJ8z"
      },
      "execution_count": null,
      "outputs": []
    },
    {
      "cell_type": "code",
      "source": [
        "class Fraction:\n",
        "    def __init__(self, numerator, denominator):\n",
        "        self.numerator = numerator\n",
        "        self.denominator = denominator\n",
        "\n",
        "    def __str__(self):\n",
        "        return f\"{self.numerator}/{self.denominator}\""
      ],
      "metadata": {
        "id": "9ErQtLizQKKv"
      },
      "execution_count": null,
      "outputs": []
    },
    {
      "cell_type": "code",
      "source": [
        "#Q10- Demonstrate operator overloading by creating a class Vector and overriding the add method to add two vectors.\n",
        "\n",
        "\n"
      ],
      "metadata": {
        "id": "nGst7WNbQOMM"
      },
      "execution_count": null,
      "outputs": []
    },
    {
      "cell_type": "code",
      "source": [
        "class Vector:\n",
        "    def __init__(self, x, y):\n",
        "        self.x = x\n",
        "        self.y = y\n",
        "\n",
        "    def __add__(self, other):\n",
        "        return Vector(self.x + other.x, self.y + other.y)\n",
        "\n",
        "    def __str__(self):\n",
        "        return f\"({self.x}, {self.y})\""
      ],
      "metadata": {
        "id": "gjUXqLoRQOaH"
      },
      "execution_count": null,
      "outputs": []
    },
    {
      "cell_type": "code",
      "source": [
        "#Q11- Create a class Person with attributes name and age. Add a method greet() that prints \"Hello, my name is {name} and I am {age} years old.\"\n",
        "\n",
        "\n"
      ],
      "metadata": {
        "id": "Nz2uEF3VQR98"
      },
      "execution_count": null,
      "outputs": []
    },
    {
      "cell_type": "code",
      "source": [
        "class Person:\n",
        "    def __init__(self, name, age):\n",
        "        self.name = name\n",
        "        self.age = age\n",
        "\n",
        "    def greet(self):\n",
        "        print(f\"Hello, my name is {self.name} and I am {self.age} years old.\")"
      ],
      "metadata": {
        "id": "gTGmMJHNQSJp"
      },
      "execution_count": null,
      "outputs": []
    },
    {
      "cell_type": "code",
      "source": [
        "#Q12-Implement a class Student with attributes name and grades. Create a method average_grade() to compute the average of the grades"
      ],
      "metadata": {
        "id": "EbO0k4K4QfEH"
      },
      "execution_count": null,
      "outputs": []
    },
    {
      "cell_type": "code",
      "source": [
        "class Student:\n",
        "    def __init__(self, name, grades):\n",
        "        self.name = name\n",
        "        self.grades = grades\n",
        "\n",
        "    def average_grade(self):\n",
        "        return sum(self.grades) / len(self.grades)"
      ],
      "metadata": {
        "id": "jD1DXp51QfRn"
      },
      "execution_count": null,
      "outputs": []
    },
    {
      "cell_type": "code",
      "source": [
        "#Q13 Create a class Rectangle with methods set_dimensions() to set the dimensions and area() to calculate the area."
      ],
      "metadata": {
        "id": "TCHKjDhuQi7D"
      },
      "execution_count": null,
      "outputs": []
    },
    {
      "cell_type": "code",
      "source": [
        "class Rectangle:\n",
        "    def set_dimensions(self, length, width):\n",
        "        self.length = length\n",
        "        self.width = width\n",
        "\n",
        "    def area(self):\n",
        "        return self.length * self.width"
      ],
      "metadata": {
        "id": "GPeElwPuQjHG"
      },
      "execution_count": null,
      "outputs": []
    },
    {
      "cell_type": "code",
      "source": [
        "#Q14- Create a class Employee with a method calculate_salary() that computes the salary based on hours worked and hourly rate. Create a derived class Manager that adds a bonus to the salary"
      ],
      "metadata": {
        "id": "BR6AqxfAQq_H"
      },
      "execution_count": null,
      "outputs": []
    },
    {
      "cell_type": "code",
      "source": [
        "class Employee:\n",
        "    def __init__(self, hours, rate):\n",
        "        self.hours = hours\n",
        "        self.rate = rate\n",
        "\n",
        "    def calculate_salary(self):\n",
        "        return self.hours * self.rate\n",
        "\n",
        "class Manager(Employee):\n",
        "    def __init__(self, hours, rate, bonus):\n",
        "        super().__init__(hours, rate)\n",
        "        self.bonus = bonus\n",
        "\n",
        "    def calculate_salary(self):\n",
        "        return super().calculate_salary() + self.bonus"
      ],
      "metadata": {
        "id": "JmQuBR2qQrLt"
      },
      "execution_count": null,
      "outputs": []
    },
    {
      "cell_type": "code",
      "source": [
        "#Q15Create a class Product with attributes name, price, and quantity. Implement a method total_price() that calculates the total price of the product."
      ],
      "metadata": {
        "id": "ASqL-OliQxX9"
      },
      "execution_count": null,
      "outputs": []
    },
    {
      "cell_type": "code",
      "source": [
        "class Product:\n",
        "    def __init__(self, name, price, quantity):\n",
        "        self.name = name\n",
        "        self.price = price\n",
        "        self.quantity = quantity\n",
        "\n",
        "    def total_price(self):\n",
        "        return self.price * self.quantity"
      ],
      "metadata": {
        "id": "FG_NB8YtQxkD"
      },
      "execution_count": null,
      "outputs": []
    },
    {
      "cell_type": "code",
      "source": [
        "#Q17 Create a class Book with attributes title, author, and year_published. Add a method get_book_info() that returns a formatted string with the book's details."
      ],
      "metadata": {
        "id": "zYmZ8I1PQ2P7"
      },
      "execution_count": null,
      "outputs": []
    },
    {
      "cell_type": "code",
      "source": [
        "class Book:\n",
        "    def __init__(self, title, author, year_published):\n",
        "        self.title = title\n",
        "        self.author = author\n",
        "        self.year_published = year_published\n",
        "\n",
        "    def get_book_info(self):\n",
        "        return f\"{self.title} by {self.author}, published in {self.year_published}\""
      ],
      "metadata": {
        "id": "r-O8NmRzQ2jU"
      },
      "execution_count": null,
      "outputs": []
    },
    {
      "cell_type": "code",
      "source": [
        "#Q18 Create a class House with attributes address and price. Create a derived class Mansion that adds an attribute number_of_rooms."
      ],
      "metadata": {
        "id": "CwXMo0GqQ6Qg"
      },
      "execution_count": null,
      "outputs": []
    },
    {
      "cell_type": "code",
      "source": [
        "class House:\n",
        "    def __init__(self, address, price):\n",
        "        self.address = address\n",
        "        self.price = price\n",
        "\n",
        "class Mansion(House):\n",
        "    def __init__(self, address, price, number_of_rooms):\n",
        "        super().__init__(address, price)\n",
        "        self.number_of_rooms = number_of_rooms"
      ],
      "metadata": {
        "id": "L9SQrSAhQ6dG"
      },
      "execution_count": null,
      "outputs": []
    }
  ]
}